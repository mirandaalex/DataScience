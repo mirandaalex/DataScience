{
 "cells": [
  {
   "cell_type": "markdown",
   "id": "8dddcb04",
   "metadata": {
    "papermill": {
     "duration": 0.00708,
     "end_time": "2023-02-27T06:11:03.812180",
     "exception": false,
     "start_time": "2023-02-27T06:11:03.805100",
     "status": "completed"
    },
    "tags": []
   },
   "source": [
    "**This notebook is an exercise in the [Introduction to Machine Learning](https://www.kaggle.com/learn/intro-to-machine-learning) course.  You can reference the tutorial at [this link](https://www.kaggle.com/dansbecker/your-first-machine-learning-model).**\n",
    "\n",
    "---\n"
   ]
  },
  {
   "cell_type": "markdown",
   "id": "41015f8a",
   "metadata": {
    "papermill": {
     "duration": 0.005132,
     "end_time": "2023-02-27T06:11:03.823803",
     "exception": false,
     "start_time": "2023-02-27T06:11:03.818671",
     "status": "completed"
    },
    "tags": []
   },
   "source": [
    "## Recap\n",
    "So far, you have loaded your data and reviewed it with the following code. Run this cell to set up your coding environment where the previous step left off."
   ]
  },
  {
   "cell_type": "code",
   "execution_count": 1,
   "id": "6620cc56",
   "metadata": {
    "execution": {
     "iopub.execute_input": "2023-02-27T06:11:03.837564Z",
     "iopub.status.busy": "2023-02-27T06:11:03.836879Z",
     "iopub.status.idle": "2023-02-27T06:11:05.370662Z",
     "shell.execute_reply": "2023-02-27T06:11:05.369344Z"
    },
    "papermill": {
     "duration": 1.543965,
     "end_time": "2023-02-27T06:11:05.373590",
     "exception": false,
     "start_time": "2023-02-27T06:11:03.829625",
     "status": "completed"
    },
    "tags": []
   },
   "outputs": [
    {
     "name": "stdout",
     "output_type": "stream",
     "text": [
      "Setup Complete\n"
     ]
    }
   ],
   "source": [
    "# Code you have previously used to load data\n",
    "import pandas as pd\n",
    "\n",
    "# Path of the file to read\n",
    "iowa_file_path = '../input/home-data-for-ml-course/train.csv'\n",
    "\n",
    "home_data = pd.read_csv(iowa_file_path)\n",
    "\n",
    "# Set up code checking\n",
    "from learntools.core import binder\n",
    "binder.bind(globals())\n",
    "from learntools.machine_learning.ex3 import *\n",
    "\n",
    "print(\"Setup Complete\")"
   ]
  },
  {
   "cell_type": "markdown",
   "id": "51eee4f8",
   "metadata": {
    "papermill": {
     "duration": 0.005642,
     "end_time": "2023-02-27T06:11:05.384927",
     "exception": false,
     "start_time": "2023-02-27T06:11:05.379285",
     "status": "completed"
    },
    "tags": []
   },
   "source": [
    "# Exercises\n",
    "\n",
    "## Step 1: Specify Prediction Target\n",
    "Select the target variable, which corresponds to the sales price. Save this to a new variable called `y`. You'll need to print a list of the columns to find the name of the column you need.\n"
   ]
  },
  {
   "cell_type": "code",
   "execution_count": 2,
   "id": "84149a01",
   "metadata": {
    "execution": {
     "iopub.execute_input": "2023-02-27T06:11:05.399752Z",
     "iopub.status.busy": "2023-02-27T06:11:05.399287Z",
     "iopub.status.idle": "2023-02-27T06:11:05.407322Z",
     "shell.execute_reply": "2023-02-27T06:11:05.405739Z"
    },
    "papermill": {
     "duration": 0.019698,
     "end_time": "2023-02-27T06:11:05.410538",
     "exception": false,
     "start_time": "2023-02-27T06:11:05.390840",
     "status": "completed"
    },
    "tags": []
   },
   "outputs": [
    {
     "name": "stdout",
     "output_type": "stream",
     "text": [
      "Index(['Id', 'MSSubClass', 'MSZoning', 'LotFrontage', 'LotArea', 'Street',\n",
      "       'Alley', 'LotShape', 'LandContour', 'Utilities', 'LotConfig',\n",
      "       'LandSlope', 'Neighborhood', 'Condition1', 'Condition2', 'BldgType',\n",
      "       'HouseStyle', 'OverallQual', 'OverallCond', 'YearBuilt', 'YearRemodAdd',\n",
      "       'RoofStyle', 'RoofMatl', 'Exterior1st', 'Exterior2nd', 'MasVnrType',\n",
      "       'MasVnrArea', 'ExterQual', 'ExterCond', 'Foundation', 'BsmtQual',\n",
      "       'BsmtCond', 'BsmtExposure', 'BsmtFinType1', 'BsmtFinSF1',\n",
      "       'BsmtFinType2', 'BsmtFinSF2', 'BsmtUnfSF', 'TotalBsmtSF', 'Heating',\n",
      "       'HeatingQC', 'CentralAir', 'Electrical', '1stFlrSF', '2ndFlrSF',\n",
      "       'LowQualFinSF', 'GrLivArea', 'BsmtFullBath', 'BsmtHalfBath', 'FullBath',\n",
      "       'HalfBath', 'BedroomAbvGr', 'KitchenAbvGr', 'KitchenQual',\n",
      "       'TotRmsAbvGrd', 'Functional', 'Fireplaces', 'FireplaceQu', 'GarageType',\n",
      "       'GarageYrBlt', 'GarageFinish', 'GarageCars', 'GarageArea', 'GarageQual',\n",
      "       'GarageCond', 'PavedDrive', 'WoodDeckSF', 'OpenPorchSF',\n",
      "       'EnclosedPorch', '3SsnPorch', 'ScreenPorch', 'PoolArea', 'PoolQC',\n",
      "       'Fence', 'MiscFeature', 'MiscVal', 'MoSold', 'YrSold', 'SaleType',\n",
      "       'SaleCondition', 'SalePrice'],\n",
      "      dtype='object')\n"
     ]
    }
   ],
   "source": [
    "# print the list of columns in the dataset to find the name of the prediction target\n",
    "print(home_data.columns)"
   ]
  },
  {
   "cell_type": "code",
   "execution_count": 3,
   "id": "272248c1",
   "metadata": {
    "execution": {
     "iopub.execute_input": "2023-02-27T06:11:05.424338Z",
     "iopub.status.busy": "2023-02-27T06:11:05.423850Z",
     "iopub.status.idle": "2023-02-27T06:11:05.445098Z",
     "shell.execute_reply": "2023-02-27T06:11:05.443895Z"
    },
    "papermill": {
     "duration": 0.031419,
     "end_time": "2023-02-27T06:11:05.447758",
     "exception": false,
     "start_time": "2023-02-27T06:11:05.416339",
     "status": "completed"
    },
    "tags": []
   },
   "outputs": [
    {
     "data": {
      "application/javascript": [
       "parent.postMessage({\"jupyterEvent\": \"custom.exercise_interaction\", \"data\": {\"outcomeType\": 1, \"valueTowardsCompletion\": 0.25, \"interactionType\": 1, \"questionType\": 2, \"questionId\": \"1_SetTarget\", \"learnToolsVersion\": \"0.3.4\", \"failureMessage\": \"\", \"exceptionClass\": \"\", \"trace\": \"\"}}, \"*\")"
      ],
      "text/plain": [
       "<IPython.core.display.Javascript object>"
      ]
     },
     "metadata": {},
     "output_type": "display_data"
    },
    {
     "data": {
      "text/markdown": [
       "<span style=\"color:#33cc33\">Correct</span>"
      ],
      "text/plain": [
       "Correct"
      ]
     },
     "metadata": {},
     "output_type": "display_data"
    }
   ],
   "source": [
    "y = home_data.SalePrice\n",
    "\n",
    "# Check your answer\n",
    "step_1.check()"
   ]
  },
  {
   "cell_type": "code",
   "execution_count": 4,
   "id": "ffcf3268",
   "metadata": {
    "collapsed": true,
    "execution": {
     "iopub.execute_input": "2023-02-27T06:11:05.461331Z",
     "iopub.status.busy": "2023-02-27T06:11:05.460877Z",
     "iopub.status.idle": "2023-02-27T06:11:05.466115Z",
     "shell.execute_reply": "2023-02-27T06:11:05.464776Z"
    },
    "jupyter": {
     "outputs_hidden": true
    },
    "papermill": {
     "duration": 0.015587,
     "end_time": "2023-02-27T06:11:05.469086",
     "exception": false,
     "start_time": "2023-02-27T06:11:05.453499",
     "status": "completed"
    },
    "tags": []
   },
   "outputs": [],
   "source": [
    "# The lines below will show you a hint or the solution.\n",
    "# step_1.hint() \n",
    "# step_1.solution()"
   ]
  },
  {
   "cell_type": "markdown",
   "id": "96041b9f",
   "metadata": {
    "papermill": {
     "duration": 0.005382,
     "end_time": "2023-02-27T06:11:05.480863",
     "exception": false,
     "start_time": "2023-02-27T06:11:05.475481",
     "status": "completed"
    },
    "tags": []
   },
   "source": [
    "## Step 2: Create X\n",
    "Now you will create a DataFrame called `X` holding the predictive features.\n",
    "\n",
    "Since you want only some columns from the original data, you'll first create a list with the names of the columns you want in `X`.\n",
    "\n",
    "You'll use just the following columns in the list (you can copy and paste the whole list to save some typing, though you'll still need to add quotes):\n",
    "  * LotArea\n",
    "  * YearBuilt\n",
    "  * 1stFlrSF\n",
    "  * 2ndFlrSF\n",
    "  * FullBath\n",
    "  * BedroomAbvGr\n",
    "  * TotRmsAbvGrd\n",
    "\n",
    "After you've created that list of features, use it to create the DataFrame that you'll use to fit the model."
   ]
  },
  {
   "cell_type": "code",
   "execution_count": 5,
   "id": "40cce0a2",
   "metadata": {
    "execution": {
     "iopub.execute_input": "2023-02-27T06:11:05.495595Z",
     "iopub.status.busy": "2023-02-27T06:11:05.495109Z",
     "iopub.status.idle": "2023-02-27T06:11:05.511135Z",
     "shell.execute_reply": "2023-02-27T06:11:05.509191Z"
    },
    "papermill": {
     "duration": 0.027269,
     "end_time": "2023-02-27T06:11:05.514288",
     "exception": false,
     "start_time": "2023-02-27T06:11:05.487019",
     "status": "completed"
    },
    "tags": []
   },
   "outputs": [
    {
     "data": {
      "application/javascript": [
       "parent.postMessage({\"jupyterEvent\": \"custom.exercise_interaction\", \"data\": {\"outcomeType\": 1, \"valueTowardsCompletion\": 0.25, \"interactionType\": 1, \"questionType\": 2, \"questionId\": \"2_SelectPredictionData\", \"learnToolsVersion\": \"0.3.4\", \"failureMessage\": \"\", \"exceptionClass\": \"\", \"trace\": \"\"}}, \"*\")"
      ],
      "text/plain": [
       "<IPython.core.display.Javascript object>"
      ]
     },
     "metadata": {},
     "output_type": "display_data"
    },
    {
     "data": {
      "text/markdown": [
       "<span style=\"color:#33cc33\">Correct</span>"
      ],
      "text/plain": [
       "Correct"
      ]
     },
     "metadata": {},
     "output_type": "display_data"
    }
   ],
   "source": [
    "# Create the list of features below\n",
    "feature_names = [\"LotArea\",\"YearBuilt\",\"1stFlrSF\",\"2ndFlrSF\",\"FullBath\",\"BedroomAbvGr\",\"TotRmsAbvGrd\"]\n",
    "\n",
    "# Select data corresponding to features in feature_names\n",
    "X = home_data[feature_names]\n",
    "\n",
    "# Check your answer\n",
    "step_2.check()"
   ]
  },
  {
   "cell_type": "code",
   "execution_count": 6,
   "id": "83fe30b9",
   "metadata": {
    "collapsed": true,
    "execution": {
     "iopub.execute_input": "2023-02-27T06:11:05.529623Z",
     "iopub.status.busy": "2023-02-27T06:11:05.528444Z",
     "iopub.status.idle": "2023-02-27T06:11:05.534115Z",
     "shell.execute_reply": "2023-02-27T06:11:05.532771Z"
    },
    "jupyter": {
     "outputs_hidden": true
    },
    "papermill": {
     "duration": 0.015809,
     "end_time": "2023-02-27T06:11:05.536641",
     "exception": false,
     "start_time": "2023-02-27T06:11:05.520832",
     "status": "completed"
    },
    "tags": []
   },
   "outputs": [],
   "source": [
    "# step_2.hint()\n",
    "# step_2.solution()"
   ]
  },
  {
   "cell_type": "markdown",
   "id": "723f4cd3",
   "metadata": {
    "papermill": {
     "duration": 0.005812,
     "end_time": "2023-02-27T06:11:05.548666",
     "exception": false,
     "start_time": "2023-02-27T06:11:05.542854",
     "status": "completed"
    },
    "tags": []
   },
   "source": [
    "## Review Data\n",
    "Before building a model, take a quick look at **X** to verify it looks sensible"
   ]
  },
  {
   "cell_type": "code",
   "execution_count": 7,
   "id": "d1050ffb",
   "metadata": {
    "execution": {
     "iopub.execute_input": "2023-02-27T06:11:05.563366Z",
     "iopub.status.busy": "2023-02-27T06:11:05.562487Z",
     "iopub.status.idle": "2023-02-27T06:11:05.608445Z",
     "shell.execute_reply": "2023-02-27T06:11:05.605192Z"
    },
    "papermill": {
     "duration": 0.056825,
     "end_time": "2023-02-27T06:11:05.611496",
     "exception": false,
     "start_time": "2023-02-27T06:11:05.554671",
     "status": "completed"
    },
    "tags": []
   },
   "outputs": [
    {
     "name": "stdout",
     "output_type": "stream",
     "text": [
      "             LotArea    YearBuilt     1stFlrSF     2ndFlrSF     FullBath  \\\n",
      "count    1460.000000  1460.000000  1460.000000  1460.000000  1460.000000   \n",
      "mean    10516.828082  1971.267808  1162.626712   346.992466     1.565068   \n",
      "std      9981.264932    30.202904   386.587738   436.528436     0.550916   \n",
      "min      1300.000000  1872.000000   334.000000     0.000000     0.000000   \n",
      "25%      7553.500000  1954.000000   882.000000     0.000000     1.000000   \n",
      "50%      9478.500000  1973.000000  1087.000000     0.000000     2.000000   \n",
      "75%     11601.500000  2000.000000  1391.250000   728.000000     2.000000   \n",
      "max    215245.000000  2010.000000  4692.000000  2065.000000     3.000000   \n",
      "\n",
      "       BedroomAbvGr  TotRmsAbvGrd  \n",
      "count   1460.000000   1460.000000  \n",
      "mean       2.866438      6.517808  \n",
      "std        0.815778      1.625393  \n",
      "min        0.000000      2.000000  \n",
      "25%        2.000000      5.000000  \n",
      "50%        3.000000      6.000000  \n",
      "75%        3.000000      7.000000  \n",
      "max        8.000000     14.000000  \n",
      "   LotArea  YearBuilt  1stFlrSF  2ndFlrSF  FullBath  BedroomAbvGr  \\\n",
      "0     8450       2003       856       854         2             3   \n",
      "1     9600       1976      1262         0         2             3   \n",
      "2    11250       2001       920       866         2             3   \n",
      "3     9550       1915       961       756         1             3   \n",
      "4    14260       2000      1145      1053         2             4   \n",
      "\n",
      "   TotRmsAbvGrd  \n",
      "0             8  \n",
      "1             6  \n",
      "2             6  \n",
      "3             7  \n",
      "4             9  \n"
     ]
    }
   ],
   "source": [
    "# Review data\n",
    "# print description or statistics from X\n",
    "print(X.describe())\n",
    "\n",
    "# print the top few lines\n",
    "print(X.head())"
   ]
  },
  {
   "cell_type": "markdown",
   "id": "79bc2d3d",
   "metadata": {
    "papermill": {
     "duration": 0.006133,
     "end_time": "2023-02-27T06:11:05.624975",
     "exception": false,
     "start_time": "2023-02-27T06:11:05.618842",
     "status": "completed"
    },
    "tags": []
   },
   "source": [
    "## Step 3: Specify and Fit Model\n",
    "Create a `DecisionTreeRegressor` and save it iowa_model. Ensure you've done the relevant import from sklearn to run this command.\n",
    "\n",
    "Then fit the model you just created using the data in `X` and `y` that you saved above."
   ]
  },
  {
   "cell_type": "code",
   "execution_count": 8,
   "id": "15c1495d",
   "metadata": {
    "execution": {
     "iopub.execute_input": "2023-02-27T06:11:05.639315Z",
     "iopub.status.busy": "2023-02-27T06:11:05.638866Z",
     "iopub.status.idle": "2023-02-27T06:11:05.658874Z",
     "shell.execute_reply": "2023-02-27T06:11:05.657667Z"
    },
    "papermill": {
     "duration": 0.030056,
     "end_time": "2023-02-27T06:11:05.661400",
     "exception": false,
     "start_time": "2023-02-27T06:11:05.631344",
     "status": "completed"
    },
    "tags": []
   },
   "outputs": [
    {
     "data": {
      "application/javascript": [
       "parent.postMessage({\"jupyterEvent\": \"custom.exercise_interaction\", \"data\": {\"outcomeType\": 1, \"valueTowardsCompletion\": 0.25, \"interactionType\": 1, \"questionType\": 2, \"questionId\": \"3_CreateModel\", \"learnToolsVersion\": \"0.3.4\", \"failureMessage\": \"\", \"exceptionClass\": \"\", \"trace\": \"\"}}, \"*\")"
      ],
      "text/plain": [
       "<IPython.core.display.Javascript object>"
      ]
     },
     "metadata": {},
     "output_type": "display_data"
    },
    {
     "data": {
      "text/markdown": [
       "<span style=\"color:#33cc33\">Correct</span>"
      ],
      "text/plain": [
       "Correct"
      ]
     },
     "metadata": {},
     "output_type": "display_data"
    }
   ],
   "source": [
    " from sklearn.tree import DecisionTreeRegressor\n",
    "#specify the model. \n",
    "#For model reproducibility, set a numeric value for random_state when specifying the model\n",
    "iowa_model = DecisionTreeRegressor(random_state=1)\n",
    "\n",
    "# Fit the model\n",
    "iowa_model.fit(X,y)\n",
    "\n",
    "# Check your answer\n",
    "step_3.check()"
   ]
  },
  {
   "cell_type": "code",
   "execution_count": 9,
   "id": "eb3be4dc",
   "metadata": {
    "collapsed": true,
    "execution": {
     "iopub.execute_input": "2023-02-27T06:11:05.676212Z",
     "iopub.status.busy": "2023-02-27T06:11:05.675788Z",
     "iopub.status.idle": "2023-02-27T06:11:05.680653Z",
     "shell.execute_reply": "2023-02-27T06:11:05.679358Z"
    },
    "jupyter": {
     "outputs_hidden": true
    },
    "papermill": {
     "duration": 0.015768,
     "end_time": "2023-02-27T06:11:05.683622",
     "exception": false,
     "start_time": "2023-02-27T06:11:05.667854",
     "status": "completed"
    },
    "tags": []
   },
   "outputs": [],
   "source": [
    "# step_3.hint()\n",
    "# step_3.solution()"
   ]
  },
  {
   "cell_type": "markdown",
   "id": "c60d2cd3",
   "metadata": {
    "papermill": {
     "duration": 0.00664,
     "end_time": "2023-02-27T06:11:05.697489",
     "exception": false,
     "start_time": "2023-02-27T06:11:05.690849",
     "status": "completed"
    },
    "tags": []
   },
   "source": [
    "## Step 4: Make Predictions\n",
    "Make predictions with the model's `predict` command using `X` as the data. Save the results to a variable called `predictions`."
   ]
  },
  {
   "cell_type": "code",
   "execution_count": 10,
   "id": "497af5fd",
   "metadata": {
    "execution": {
     "iopub.execute_input": "2023-02-27T06:11:05.714081Z",
     "iopub.status.busy": "2023-02-27T06:11:05.713166Z",
     "iopub.status.idle": "2023-02-27T06:11:05.732514Z",
     "shell.execute_reply": "2023-02-27T06:11:05.730436Z"
    },
    "papermill": {
     "duration": 0.031125,
     "end_time": "2023-02-27T06:11:05.735535",
     "exception": false,
     "start_time": "2023-02-27T06:11:05.704410",
     "status": "completed"
    },
    "tags": []
   },
   "outputs": [
    {
     "name": "stdout",
     "output_type": "stream",
     "text": [
      "[208500. 181500. 223500. ... 266500. 142125. 147500.]\n"
     ]
    },
    {
     "data": {
      "application/javascript": [
       "parent.postMessage({\"jupyterEvent\": \"custom.exercise_interaction\", \"data\": {\"outcomeType\": 1, \"valueTowardsCompletion\": 0.25, \"interactionType\": 1, \"questionType\": 2, \"questionId\": \"4_MakePredictions\", \"learnToolsVersion\": \"0.3.4\", \"failureMessage\": \"\", \"exceptionClass\": \"\", \"trace\": \"\"}}, \"*\")"
      ],
      "text/plain": [
       "<IPython.core.display.Javascript object>"
      ]
     },
     "metadata": {},
     "output_type": "display_data"
    },
    {
     "data": {
      "text/markdown": [
       "<span style=\"color:#33cc33\">Correct</span>"
      ],
      "text/plain": [
       "Correct"
      ]
     },
     "metadata": {},
     "output_type": "display_data"
    }
   ],
   "source": [
    "predictions = iowa_model.predict(X)\n",
    "print(predictions)\n",
    "\n",
    "# Check your answer\n",
    "step_4.check()"
   ]
  },
  {
   "cell_type": "code",
   "execution_count": 11,
   "id": "7f63f0ef",
   "metadata": {
    "collapsed": true,
    "execution": {
     "iopub.execute_input": "2023-02-27T06:11:05.751584Z",
     "iopub.status.busy": "2023-02-27T06:11:05.751130Z",
     "iopub.status.idle": "2023-02-27T06:11:05.755977Z",
     "shell.execute_reply": "2023-02-27T06:11:05.754681Z"
    },
    "jupyter": {
     "outputs_hidden": true
    },
    "papermill": {
     "duration": 0.015894,
     "end_time": "2023-02-27T06:11:05.758564",
     "exception": false,
     "start_time": "2023-02-27T06:11:05.742670",
     "status": "completed"
    },
    "tags": []
   },
   "outputs": [],
   "source": [
    "# step_4.hint()\n",
    "# step_4.solution()"
   ]
  },
  {
   "cell_type": "markdown",
   "id": "6ace57dd",
   "metadata": {
    "papermill": {
     "duration": 0.006617,
     "end_time": "2023-02-27T06:11:05.772421",
     "exception": false,
     "start_time": "2023-02-27T06:11:05.765804",
     "status": "completed"
    },
    "tags": []
   },
   "source": [
    "## Think About Your Results\n",
    "\n",
    "Use the `head` method to compare the top few predictions to the actual home values (in `y`) for those same homes. Anything surprising?\n"
   ]
  },
  {
   "cell_type": "code",
   "execution_count": 12,
   "id": "5814c4b8",
   "metadata": {
    "execution": {
     "iopub.execute_input": "2023-02-27T06:11:05.791062Z",
     "iopub.status.busy": "2023-02-27T06:11:05.789985Z",
     "iopub.status.idle": "2023-02-27T06:11:05.797090Z",
     "shell.execute_reply": "2023-02-27T06:11:05.795687Z"
    },
    "papermill": {
     "duration": 0.021324,
     "end_time": "2023-02-27T06:11:05.800841",
     "exception": false,
     "start_time": "2023-02-27T06:11:05.779517",
     "status": "completed"
    },
    "tags": []
   },
   "outputs": [
    {
     "name": "stdout",
     "output_type": "stream",
     "text": [
      "[0. 0. 0. 0. 0.]\n"
     ]
    }
   ],
   "source": [
    "# You can write code in this cell\n",
    "print(predictions[:5] - y.head().to_numpy())"
   ]
  },
  {
   "cell_type": "markdown",
   "id": "4c1a1c11",
   "metadata": {
    "papermill": {
     "duration": 0.006593,
     "end_time": "2023-02-27T06:11:05.814757",
     "exception": false,
     "start_time": "2023-02-27T06:11:05.808164",
     "status": "completed"
    },
    "tags": []
   },
   "source": [
    "It's natural to ask how accurate the model's predictions will be and how you can improve that. That will be you're next step.\n",
    "\n",
    "# Keep Going\n",
    "\n",
    "You are ready for **[Model Validation](https://www.kaggle.com/dansbecker/model-validation).**\n"
   ]
  },
  {
   "cell_type": "markdown",
   "id": "cd376eed",
   "metadata": {
    "papermill": {
     "duration": 0.006774,
     "end_time": "2023-02-27T06:11:05.829363",
     "exception": false,
     "start_time": "2023-02-27T06:11:05.822589",
     "status": "completed"
    },
    "tags": []
   },
   "source": [
    "---\n",
    "\n",
    "\n",
    "\n",
    "\n",
    "*Have questions or comments? Visit the [course discussion forum](https://www.kaggle.com/learn/intro-to-machine-learning/discussion) to chat with other learners.*"
   ]
  }
 ],
 "metadata": {
  "kernelspec": {
   "display_name": "Python 3",
   "language": "python",
   "name": "python3"
  },
  "language_info": {
   "codemirror_mode": {
    "name": "ipython",
    "version": 3
   },
   "file_extension": ".py",
   "mimetype": "text/x-python",
   "name": "python",
   "nbconvert_exporter": "python",
   "pygments_lexer": "ipython3",
   "version": "3.7.12"
  },
  "papermill": {
   "default_parameters": {},
   "duration": 13.893892,
   "end_time": "2023-02-27T06:11:06.560568",
   "environment_variables": {},
   "exception": null,
   "input_path": "__notebook__.ipynb",
   "output_path": "__notebook__.ipynb",
   "parameters": {},
   "start_time": "2023-02-27T06:10:52.666676",
   "version": "2.4.0"
  }
 },
 "nbformat": 4,
 "nbformat_minor": 5
}
